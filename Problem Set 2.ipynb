{
 "cells": [
  {
   "cell_type": "markdown",
   "id": "b3ee33f1",
   "metadata": {},
   "source": [
    "## Question 1"
   ]
  },
  {
   "cell_type": "markdown",
   "id": "f31b41d3",
   "metadata": {},
   "source": [
    "What value is displayed when the last expression (a) is evaluated? Explain your answer by indicating what happens in every executed statement."
   ]
  },
  {
   "cell_type": "code",
   "execution_count": 59,
   "id": "0bcde422",
   "metadata": {},
   "outputs": [
    {
     "data": {
      "text/plain": [
       "6"
      ]
     },
     "execution_count": 59,
     "metadata": {},
     "output_type": "execute_result"
    }
   ],
   "source": [
    "a=0\n",
    "def b():\n",
    "    global a\n",
    "    a = c(a)\n",
    "def c(a):\n",
    "    return a + 2\n",
    "\n",
    "\n",
    "b()\n",
    "b()\n",
    "b()\n",
    "a"
   ]
  },
  {
   "cell_type": "markdown",
   "id": "727f73a3",
   "metadata": {},
   "source": [
    "## Question 2"
   ]
  },
  {
   "cell_type": "code",
   "execution_count": 11,
   "id": "c978778a",
   "metadata": {},
   "outputs": [
    {
     "name": "stdout",
     "output_type": "stream",
     "text": [
      "123\n"
     ]
    }
   ],
   "source": [
    "def file_length(file_name):\n",
    "    try:\n",
    "        file = open(file_name)\n",
    "        contents = file.read()\n",
    "        file.close()\n",
    "        print(len(contents))\n",
    "    except FileNotFoundError:\n",
    "        print(f\"File {file_name} not found.\")\n",
    "\n",
    "file_length(\"FileLength.txt\")"
   ]
  },
  {
   "cell_type": "markdown",
   "id": "b2d8e91b",
   "metadata": {},
   "source": [
    "## Question 3"
   ]
  },
  {
   "cell_type": "code",
   "execution_count": 21,
   "id": "c8598438",
   "metadata": {},
   "outputs": [
    {
     "name": "stdout",
     "output_type": "stream",
     "text": [
      "['doll', 'firetruck', 'kitten']\n",
      "I am a Kangaroo located at coordinates (0,0)\n",
      "['doll', 'firetruck', 'kitten']\n",
      "I am a Kangaroo located at coordinates (3,0)\n"
     ]
    }
   ],
   "source": [
    "class Marsupial:\n",
    "    def __init__(self):\n",
    "        self.array = []\n",
    "        \n",
    "    def put_in_pouch(self, itemName):\n",
    "        self.array.append(itemName)\n",
    "    \n",
    "    def pouch_contents(self):\n",
    "        print(self.array)\n",
    "        \n",
    "class Kangaroo(Marsupial):\n",
    "    def __init__(self, x, y):\n",
    "        self.x = x\n",
    "        self.y = y\n",
    "        super().__init__()\n",
    "   \n",
    "    def jump(self, dx, dy):\n",
    "        self.x += dx\n",
    "        self.y += dy\n",
    "\n",
    "    def __str__(self):\n",
    "        return f\"I am a Kangaroo located at coordinates ({self.x},{self.y})\"\n",
    "        \n",
    "        \n",
    "m = Marsupial()\n",
    "m.put_in_pouch('doll')\n",
    "m.put_in_pouch('firetruck')\n",
    "m.put_in_pouch('kitten')\n",
    "m.pouch_contents()\n",
    "\n",
    "k = Kangaroo(0,0)\n",
    "print(k)\n",
    "\n",
    "k.put_in_pouch('doll')\n",
    "k.put_in_pouch('firetruck')\n",
    "k.put_in_pouch('kitten')\n",
    "k.pouch_contents()\n",
    "\n",
    "k.jump(1,0)\n",
    "k.jump(1,0)\n",
    "k.jump(1,0)\n",
    "print(k)\n",
    "\n",
    "\n"
   ]
  },
  {
   "cell_type": "markdown",
   "id": "b3b508ca",
   "metadata": {},
   "source": [
    "## Question 4"
   ]
  },
  {
   "cell_type": "code",
   "execution_count": 28,
   "id": "6796b205",
   "metadata": {},
   "outputs": [
    {
     "name": "stdout",
     "output_type": "stream",
     "text": [
      ">>> collatz(1)\n",
      "1\n",
      ">>> collatz(10)\n",
      "10\n",
      "5\n",
      "16\n",
      "8\n",
      "4\n",
      "2\n",
      "1\n"
     ]
    }
   ],
   "source": [
    "def collatz(x):\n",
    "    print(x)\n",
    "    if x > 1:\n",
    "        newX = x\n",
    "        if x % 2 == 0:\n",
    "            newX = x/2\n",
    "        else:\n",
    "            newX = 3 * x + 1\n",
    "        collatz(int(newX))\n",
    "        \n",
    "print(\">>> collatz(1)\")        \n",
    "collatz(1)       \n",
    "print(\">>> collatz(10)\")            \n",
    "collatz(10)           "
   ]
  },
  {
   "cell_type": "markdown",
   "id": "7483d99e",
   "metadata": {},
   "source": [
    "## Question 5"
   ]
  },
  {
   "cell_type": "code",
   "execution_count": 30,
   "id": "b59b64e2",
   "metadata": {},
   "outputs": [
    {
     "name": "stdout",
     "output_type": "stream",
     "text": [
      "binary(0)\n",
      "0\n",
      "binary(1)\n",
      "1\n",
      "binary(3)\n",
      "11\n",
      "binary(9)\n",
      "1001\n"
     ]
    }
   ],
   "source": [
    "def binary(n, binaryValue = \"\"):\n",
    "    if n > 1:\n",
    "        reminder = n % 2\n",
    "        binaryValue = str(reminder) + binaryValue\n",
    "        binary(int(n/2), binaryValue)\n",
    "    else:\n",
    "        print(str(n) + binaryValue)\n",
    "        \n",
    "        \n",
    "print(\"binary(0)\")\n",
    "binary(0)\n",
    "\n",
    "print(\"binary(1)\")\n",
    "binary(1)\n",
    "\n",
    "print(\"binary(3)\")\n",
    "binary(3)\n",
    "\n",
    "print(\"binary(9)\")\n",
    "binary(9)\n",
    "      \n",
    "        \n",
    "    "
   ]
  },
  {
   "cell_type": "markdown",
   "id": "db32889f",
   "metadata": {},
   "source": [
    "## Question 6"
   ]
  },
  {
   "cell_type": "code",
   "execution_count": 58,
   "id": "47e6b15f",
   "metadata": {},
   "outputs": [
    {
     "name": "stdout",
     "output_type": "stream",
     "text": [
      "W3C Mission\n",
      " Principles\n"
     ]
    }
   ],
   "source": [
    "from html.parser import HTMLParser\n",
    "class HeadingParser(HTMLParser):\n",
    "    indentation = -1\n",
    "        \n",
    "    def handle_starttag(self, tag, attrs):\n",
    "        if tag == 'h1':\n",
    "            self.indentation = 0\n",
    "        elif tag == 'h2':\n",
    "            self.indentation = 1\n",
    "        elif tag == 'h3':\n",
    "            self.indentation = 2\n",
    "        elif tag == 'h4':\n",
    "            self.indentation = 3\n",
    "        elif tag == 'h5':\n",
    "            self.indentation = 4            \n",
    "        elif tag == 'h6':\n",
    "            self.indentation = 5\n",
    "        else:\n",
    "            self.indentation = -1\n",
    "               \n",
    "\n",
    "    def handle_data(self, data):\n",
    "        if data.strip() != \"\":\n",
    "            printWithIndentation(data, self.indentation)\n",
    "        \n",
    "\n",
    "def printWithIndentation(text, indentation):\n",
    "    if indentation >= 0:\n",
    "        print(f\"{' ' * indentation}{text}\")        \n",
    "\n",
    "infile = open('w3c.html') \n",
    "content = infile.read() \n",
    "infile.close() \n",
    "\n",
    "headingParser = HeadingParser()\n",
    "headingParser.feed(content)\n",
    "    "
   ]
  },
  {
   "cell_type": "markdown",
   "id": "0dbb1a58",
   "metadata": {},
   "source": [
    "## Question 7"
   ]
  },
  {
   "cell_type": "code",
   "execution_count": null,
   "id": "28f89d9b",
   "metadata": {},
   "outputs": [],
   "source": [
    "def webdir(url, depth, indent):\n",
    "    \n",
    "    \n",
    "    >>>\n",
    "webdir('http://reed.cs.depaul.edu/lperkovic/csc242/test1.html'\n",
    ", 2, 0)\n",
    "http://reed.cs.depaul.edu/lperkovic/csc242/test1.html\n",
    " http://reed.cs.depaul.edu/lperkovic/csc242/test2.html\n",
    " http://reed.cs.depaul.edu/lperkovic/csc242/test4.html\n",
    " http://reed.cs.depaul.edu/lperkovic/csc242/test3.html\n",
    " http://reed.cs.depaul.edu/lperkovic/csc242/test4.html\n",
    "    "
   ]
  },
  {
   "cell_type": "markdown",
   "id": "fe3ed530",
   "metadata": {},
   "source": [
    "## Question 8"
   ]
  },
  {
   "cell_type": "code",
   "execution_count": 60,
   "id": "ca3ba5f5",
   "metadata": {},
   "outputs": [
    {
     "name": "stdout",
     "output_type": "stream",
     "text": [
      "Collecting ipython-sql\n",
      "  Downloading ipython_sql-0.4.1-py3-none-any.whl (21 kB)\n",
      "Collecting sqlalchemy>=0.6.7\n",
      "  Downloading SQLAlchemy-1.4.42.tar.gz (8.3 MB)\n",
      "\u001b[K     |████████████████████████████████| 8.3 MB 3.9 MB/s eta 0:00:01\n",
      "\u001b[?25hCollecting sqlparse\n",
      "  Downloading sqlparse-0.4.3-py3-none-any.whl (42 kB)\n",
      "\u001b[K     |████████████████████████████████| 42 kB 6.4 MB/s eta 0:00:01\n",
      "\u001b[?25hRequirement already satisfied: six in /Users/linto/Desktop/Assignments/Semester1/Data Programming/Jupyter/lib/python3.8/site-packages (from ipython-sql) (1.16.0)\n",
      "Collecting prettytable<1\n",
      "  Downloading prettytable-0.7.2.tar.bz2 (21 kB)\n",
      "Requirement already satisfied: ipython>=1.0 in /Users/linto/Desktop/Assignments/Semester1/Data Programming/Jupyter/lib/python3.8/site-packages (from ipython-sql) (8.5.0)\n",
      "Requirement already satisfied: ipython-genutils>=0.1.0 in /Users/linto/Desktop/Assignments/Semester1/Data Programming/Jupyter/lib/python3.8/site-packages (from ipython-sql) (0.2.0)\n",
      "Requirement already satisfied: decorator in /Users/linto/Desktop/Assignments/Semester1/Data Programming/Jupyter/lib/python3.8/site-packages (from ipython>=1.0->ipython-sql) (5.1.1)\n",
      "Requirement already satisfied: stack-data in /Users/linto/Desktop/Assignments/Semester1/Data Programming/Jupyter/lib/python3.8/site-packages (from ipython>=1.0->ipython-sql) (0.5.0)\n",
      "Requirement already satisfied: appnope; sys_platform == \"darwin\" in /Users/linto/Desktop/Assignments/Semester1/Data Programming/Jupyter/lib/python3.8/site-packages (from ipython>=1.0->ipython-sql) (0.1.3)\n",
      "Requirement already satisfied: prompt-toolkit<3.1.0,>3.0.1 in /Users/linto/Desktop/Assignments/Semester1/Data Programming/Jupyter/lib/python3.8/site-packages (from ipython>=1.0->ipython-sql) (3.0.31)\n",
      "Requirement already satisfied: pygments>=2.4.0 in /Users/linto/Desktop/Assignments/Semester1/Data Programming/Jupyter/lib/python3.8/site-packages (from ipython>=1.0->ipython-sql) (2.13.0)\n",
      "Requirement already satisfied: traitlets>=5 in /Users/linto/Desktop/Assignments/Semester1/Data Programming/Jupyter/lib/python3.8/site-packages (from ipython>=1.0->ipython-sql) (5.3.0)\n",
      "Requirement already satisfied: jedi>=0.16 in /Users/linto/Desktop/Assignments/Semester1/Data Programming/Jupyter/lib/python3.8/site-packages (from ipython>=1.0->ipython-sql) (0.18.1)\n",
      "Requirement already satisfied: pickleshare in /Users/linto/Desktop/Assignments/Semester1/Data Programming/Jupyter/lib/python3.8/site-packages (from ipython>=1.0->ipython-sql) (0.7.5)\n",
      "Requirement already satisfied: pexpect>4.3; sys_platform != \"win32\" in /Users/linto/Desktop/Assignments/Semester1/Data Programming/Jupyter/lib/python3.8/site-packages (from ipython>=1.0->ipython-sql) (4.8.0)\n",
      "Requirement already satisfied: matplotlib-inline in /Users/linto/Desktop/Assignments/Semester1/Data Programming/Jupyter/lib/python3.8/site-packages (from ipython>=1.0->ipython-sql) (0.1.6)\n",
      "Requirement already satisfied: backcall in /Users/linto/Desktop/Assignments/Semester1/Data Programming/Jupyter/lib/python3.8/site-packages (from ipython>=1.0->ipython-sql) (0.2.0)\n",
      "Requirement already satisfied: executing in /Users/linto/Desktop/Assignments/Semester1/Data Programming/Jupyter/lib/python3.8/site-packages (from stack-data->ipython>=1.0->ipython-sql) (1.0.0)\n",
      "Requirement already satisfied: pure-eval in /Users/linto/Desktop/Assignments/Semester1/Data Programming/Jupyter/lib/python3.8/site-packages (from stack-data->ipython>=1.0->ipython-sql) (0.2.2)\n",
      "Requirement already satisfied: asttokens in /Users/linto/Desktop/Assignments/Semester1/Data Programming/Jupyter/lib/python3.8/site-packages (from stack-data->ipython>=1.0->ipython-sql) (2.0.8)\n",
      "Requirement already satisfied: wcwidth in /Users/linto/Desktop/Assignments/Semester1/Data Programming/Jupyter/lib/python3.8/site-packages (from prompt-toolkit<3.1.0,>3.0.1->ipython>=1.0->ipython-sql) (0.2.5)\n",
      "Requirement already satisfied: parso<0.9.0,>=0.8.0 in /Users/linto/Desktop/Assignments/Semester1/Data Programming/Jupyter/lib/python3.8/site-packages (from jedi>=0.16->ipython>=1.0->ipython-sql) (0.8.3)\n",
      "Requirement already satisfied: ptyprocess>=0.5 in /Users/linto/Desktop/Assignments/Semester1/Data Programming/Jupyter/lib/python3.8/site-packages (from pexpect>4.3; sys_platform != \"win32\"->ipython>=1.0->ipython-sql) (0.7.0)\n",
      "Using legacy 'setup.py install' for sqlalchemy, since package 'wheel' is not installed.\n",
      "Using legacy 'setup.py install' for prettytable, since package 'wheel' is not installed.\n",
      "Installing collected packages: sqlalchemy, sqlparse, prettytable, ipython-sql\n",
      "    Running setup.py install for sqlalchemy ... \u001b[?25ldone\n",
      "\u001b[?25h    Running setup.py install for prettytable ... \u001b[?25ldone\n",
      "\u001b[?25hSuccessfully installed ipython-sql-0.4.1 prettytable-0.7.2 sqlalchemy-1.4.42 sqlparse-0.4.3\n",
      "\u001b[33mWARNING: You are using pip version 20.2.3; however, version 22.3 is available.\n",
      "You should consider upgrading via the '/Users/linto/Desktop/Assignments/Semester1/Data Programming/Jupyter/bin/python3 -m pip install --upgrade pip' command.\u001b[0m\n"
     ]
    }
   ],
   "source": [
    " !pip install ipython-sql"
   ]
  },
  {
   "cell_type": "code",
   "execution_count": 3,
   "id": "fd61e4ab",
   "metadata": {},
   "outputs": [
    {
     "data": {
      "text/plain": [
       "<sqlite3.Cursor at 0x105e87ce0>"
      ]
     },
     "execution_count": 3,
     "metadata": {},
     "output_type": "execute_result"
    }
   ],
   "source": [
    "import sqlite3\n",
    "connection = sqlite3.connect('web.db')\n",
    "cursor = connection.cursor()\n",
    "cursor.execute(\"CREATE TABLE TempData (City text, Country text, Season text, Temperature real, Rainfall real)\")\n"
   ]
  },
  {
   "cell_type": "code",
   "execution_count": 4,
   "id": "dab0bf86",
   "metadata": {},
   "outputs": [
    {
     "data": {
      "text/plain": [
       "<sqlite3.Cursor at 0x105e87ce0>"
      ]
     },
     "execution_count": 4,
     "metadata": {},
     "output_type": "execute_result"
    }
   ],
   "source": [
    "cursor.execute(\"INSERT INTO TempData VALUES ('Mumbai', 'India', 'Winter', 24.8, 5.9)\")\n",
    "cursor.execute(\"INSERT INTO TempData VALUES ('Mumbai', 'India', 'Spring', 28.4, 16.2)\")\n",
    "cursor.execute(\"INSERT INTO TempData VALUES ('Mumbai', 'India', 'Summer', 27.9, 1549.4)\")\n",
    "cursor.execute(\"INSERT INTO TempData VALUES ('Mumbai', 'India', 'Fall', 27.6, 346.0)\")\n",
    "cursor.execute(\"INSERT INTO TempData VALUES ('London', 'United Kingdom', 'Winter', 4.2, 207.7)\")\n",
    "cursor.execute(\"INSERT INTO TempData VALUES ('London', 'United Kingdom', 'Spring', 8.3, 169.6)\")\n",
    "cursor.execute(\"INSERT INTO TempData VALUES ('London', 'United Kingdom', 'Summer', 15.7, 157.0)\")\n",
    "cursor.execute(\"INSERT INTO TempData VALUES ('London', 'United Kingdom', 'Fall', 10.4, 218.5)\")\n",
    "cursor.execute(\"INSERT INTO TempData VALUES ('Cairo', 'Egypt', 'Winter', 13.6, 16.5)\")\n",
    "cursor.execute(\"INSERT INTO TempData VALUES ('Cairo', 'Egypt', 'Spring', 20.7, 6.5)\")\n",
    "cursor.execute(\"INSERT INTO TempData VALUES ('Cairo', 'Egypt', 'Summer', 27.7, 0.1)\")\n",
    "cursor.execute(\"INSERT INTO TempData VALUES ('Cairo', 'Egypt', 'Fall', 22.2, 4.5 )\")\n"
   ]
  },
  {
   "cell_type": "code",
   "execution_count": 14,
   "id": "e50bcce5",
   "metadata": {},
   "outputs": [
    {
     "name": "stdout",
     "output_type": "stream",
     "text": [
      "a) All the temperature data.\n",
      "[('Mumbai', 'India', 'Winter', 24.8, 5.9), ('Mumbai', 'India', 'Spring', 28.4, 16.2), ('Mumbai', 'India', 'Summer', 27.9, 1549.4), ('Mumbai', 'India', 'Fall', 27.6, 346.0), ('London', 'United Kingdom', 'Winter', 4.2, 207.7), ('London', 'United Kingdom', 'Spring', 8.3, 169.6), ('London', 'United Kingdom', 'Summer', 15.7, 157.0), ('London', 'United Kingdom', 'Fall', 10.4, 218.5), ('Cairo', 'Egypt', 'Winter', 13.6, 16.5), ('Cairo', 'Egypt', 'Spring', 20.7, 6.5), ('Cairo', 'Egypt', 'Summer', 27.7, 0.1), ('Cairo', 'Egypt', 'Fall', 22.2, 4.5)]\n",
      "\n",
      "b) All the cities, but without repetition.\n",
      "[('Mumbai',), ('London',), ('Cairo',)]\n",
      "\n",
      "c) All the records for India.\n",
      "[('Mumbai', 'India', 'Winter', 24.8, 5.9), ('Mumbai', 'India', 'Spring', 28.4, 16.2), ('Mumbai', 'India', 'Summer', 27.9, 1549.4), ('Mumbai', 'India', 'Fall', 27.6, 346.0)]\n",
      "\n",
      "d) All the Fall records.\n",
      "[('Mumbai', 'India', 'Fall', 27.6, 346.0), ('London', 'United Kingdom', 'Fall', 10.4, 218.5), ('Cairo', 'Egypt', 'Fall', 22.2, 4.5)]\n",
      "\n",
      "e) The city, country, and season for which the average rainfall is between 200 and 400 millimeters\n",
      "[('Mumbai', 'India', 'Fall', 27.6, 346.0), ('London', 'United Kingdom', 'Winter', 4.2, 207.7), ('London', 'United Kingdom', 'Fall', 10.4, 218.5)]\n",
      "\n",
      "\n",
      "f) The city and country for which the average Fall temperature is above 20 degrees, in increasing temperature order.\n",
      "[('Cairo', 'Egypt', 'Spring', 20.7, 6.5), ('Cairo', 'Egypt', 'Fall', 22.2, 4.5), ('Mumbai', 'India', 'Winter', 24.8, 5.9), ('Mumbai', 'India', 'Fall', 27.6, 346.0), ('Cairo', 'Egypt', 'Summer', 27.7, 0.1), ('Mumbai', 'India', 'Summer', 27.9, 1549.4), ('Mumbai', 'India', 'Spring', 28.4, 16.2)]\n",
      "\n",
      "g) The total annual rainfall for Cairo.\n",
      "[(27.6,)]\n",
      "\n",
      "h) The total rainfall for each season.\n",
      "[('Fall', 569.0), ('Spring', 192.29999999999998), ('Summer', 1706.5), ('Winter', 230.1)]\n"
     ]
    }
   ],
   "source": [
    "print(\"a) All the temperature data.\")\n",
    "cursor.execute(\"SELECT * FROM TempData\")\n",
    "print(cursor.fetchall())\n",
    "\n",
    "print(\"\\nb) All the cities, but without repetition.\")\n",
    "cursor.execute(\"SELECT DISTINCT City FROM TempData\")\n",
    "print(cursor.fetchall())\n",
    "\n",
    "print(\"\\nc) All the records for India.\")\n",
    "cursor.execute(\"SELECT * FROM TempData WHERE Country = 'India'\")\n",
    "print(cursor.fetchall())\n",
    "\n",
    "\n",
    "print(\"\\nd) All the Fall records.\")\n",
    "cursor.execute(\"SELECT * FROM TempData WHERE Season = 'Fall'\")\n",
    "print(cursor.fetchall())\n",
    "\n",
    "\n",
    "print(\"\\ne) The city, country, and season for which the average rainfall is between 200 and 400 millimeters\")\n",
    "cursor.execute(\"SELECT * FROM TempData WHERE Rainfall > 200 AND Rainfall < 400\")\n",
    "print(cursor.fetchall())\n",
    "\n",
    "print(\"\\n\\nf) The city and country for which the average Fall temperature is above 20 degrees, in increasing temperature order.\")\n",
    "cursor.execute(\"SELECT * FROM TempData WHERE Temperature > 20 ORDER BY Temperature\")\n",
    "print(cursor.fetchall())\n",
    "\n",
    "print(\"\\ng) The total annual rainfall for Cairo.\")\n",
    "cursor.execute(\"SELECT SUM(Rainfall) FROM TempData WHERE City = 'Cairo'\")\n",
    "print(cursor.fetchall())\n",
    "\n",
    "print(\"\\nh) The total rainfall for each season.\")\n",
    "cursor.execute(\"SELECT Season, SUM(Rainfall) FROM TempData GROUP BY Season\")\n",
    "print(cursor.fetchall())\n"
   ]
  },
  {
   "cell_type": "markdown",
   "id": "7792bb73",
   "metadata": {},
   "source": [
    "## Question 9"
   ]
  },
  {
   "cell_type": "code",
   "execution_count": 25,
   "id": "50a1ceb0",
   "metadata": {},
   "outputs": [
    {
     "name": "stdout",
     "output_type": "stream",
     "text": [
      "a) ['THE', 'QUICK', 'BROWN', 'FOX', 'JUMPS', 'OVER', 'THE','LAZY', 'DOG']\n",
      "['THE', 'QUICK', 'BROWN', 'FOX', 'JUMPS', 'OVER', 'THE', 'LAZY', 'DOG']\n",
      "\n",
      "b) ['the', 'quick', 'brown', 'fox', 'jumps', 'over', 'the','lazy', 'dog']\n",
      "['the', 'quick', 'brown', 'fox', 'jumps', 'over', 'the', 'lazy', 'dog']\n",
      "\n",
      "c) [3, 5, 5, 3, 5, 4, 3, 4, 3] (the list of lengths of words in list words).\n",
      "[3, 5, 5, 3, 5, 4, 3, 4, 3]\n",
      "\n",
      "d) [['THE', 'the', 3], ['QUICK', 'quick', 5], ['BROWN','brown', 5], ['FOX', 'fox', 3], ['JUMPS', 'jumps', 5], ['OVER', 'over', 4], ['THE', 'the', 3], ['LAZY', 'lazy', 4], ['DOG', 'dog', 3]] (the list containing a list for every word of list words, where each list contains the word in uppercase and lowercase and the length of the word.)\n",
      "[['THE', 'the', 3], ['QUICK', 'quick', 5], ['BROWN', 'brown', 5], ['FOX', 'fox', 3], ['JUMPS', 'jumps', 5], ['OVER', 'over', 4], ['THE', 'the', 3], ['LAZY', 'lazy', 4], ['DOG', 'dog', 3]]\n",
      "\n",
      "e) ['The', 'quick', 'brown', 'fox', 'jumps', 'over', 'the', 'lazy', 'dog'] (the list of words in list words containing 4 or more characters.)\n",
      "['quick', 'brown', 'jumps', 'over', 'lazy']\n"
     ]
    }
   ],
   "source": [
    "words = ['The', 'quick', 'brown', 'fox', 'jumps', 'over','the', 'lazy', 'dog']\n",
    "print(\"a) ['THE', 'QUICK', 'BROWN', 'FOX', 'JUMPS', 'OVER', 'THE','LAZY', 'DOG']\")\n",
    "list1 = []\n",
    "for word in words:\n",
    "    list1.append(word.upper())\n",
    "print(list1)\n",
    "\n",
    "\n",
    "print(\"\\nb) ['the', 'quick', 'brown', 'fox', 'jumps', 'over', 'the','lazy', 'dog']\")\n",
    "list2 = []\n",
    "for word in words:\n",
    "    list2.append(word.lower())\n",
    "print(list2)\n",
    "\n",
    "\n",
    "print(\"\\nc) [3, 5, 5, 3, 5, 4, 3, 4, 3] (the list of lengths of words in list words).\")\n",
    "list3 = []\n",
    "for word in words:\n",
    "    list3.append(len(word))\n",
    "print(list3)\n",
    "\n",
    "\n",
    "\n",
    "print(\"\\nd) [['THE', 'the', 3], ['QUICK', 'quick', 5], ['BROWN','brown', 5], ['FOX', 'fox', 3], ['JUMPS', 'jumps', 5], ['OVER', 'over', 4], ['THE', 'the', 3], ['LAZY', 'lazy', 4], ['DOG', 'dog', 3]] (the list containing a list for every word of list words, where each list contains the word in uppercase and lowercase and the length of the word.)\")\n",
    "list4 = []\n",
    "for word in words:\n",
    "    list4.append([word.upper(), word.lower(), len(word)])\n",
    "print(list4)\n",
    "\n",
    "\n",
    "\n",
    "print(\"\\ne) ['The', 'quick', 'brown', 'fox', 'jumps', 'over', 'the', 'lazy', 'dog'] (the list of words in list words containing 4 or more characters.)\")\n",
    "list5 = []\n",
    "for word in words:\n",
    "    if len(word) >= 4:\n",
    "        list5.append(word)\n",
    "print(list5)\n",
    "\n",
    "\n"
   ]
  }
 ],
 "metadata": {
  "kernelspec": {
   "display_name": "Python 3 (ipykernel)",
   "language": "python",
   "name": "python3"
  },
  "language_info": {
   "codemirror_mode": {
    "name": "ipython",
    "version": 3
   },
   "file_extension": ".py",
   "mimetype": "text/x-python",
   "name": "python",
   "nbconvert_exporter": "python",
   "pygments_lexer": "ipython3",
   "version": "3.8.9"
  }
 },
 "nbformat": 4,
 "nbformat_minor": 5
}
